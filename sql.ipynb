{
 "cells": [
  {
   "cell_type": "code",
   "execution_count": 29,
   "metadata": {},
   "outputs": [
    {
     "name": "stdout",
     "output_type": "stream",
     "text": [
      "https://airdoor.jp/detail/71446/234189\n"
     ]
    }
   ],
   "source": [
    "import requests\n",
    "from bs4 import BeautifulSoup\n",
    "import pandas as pd\n",
    "import time\n",
    "from tqdm import tqdm\n",
    "import re\n",
    "import urllib\n",
    "\n",
    "REQUEST_URL = \"https://airdoor.jp/list?st=d-91224-5779076&uf=10\"\n",
    "\n",
    "res = requests.get(REQUEST_URL)\n",
    "res.encoding = \"utf-8\"\n",
    "soup = BeautifulSoup(res.text, \"html.parser\")\n",
    "propertyPanels = soup.select(\"div.PropertyPanel_propertyPanel__8oJ13\")\n",
    "roomitems = propertyPanels[0].select(\"a.PropertyPanelRoom_roomItem__95jRr\")\n",
    "\n",
    "print(\"https://airdoor.jp\"+roomitems[0].get(\"href\"))\n",
    "# items = soup.select(\"div.cassetteitem-item\")[0].select(\"tbody\")\n",
    "# floor = items[0].select(\"td.ui-text--midium a\")[0].get(\"href\")\n",
    "# print(\"https://suumo.jp\"+floor)"
   ]
  }
 ],
 "metadata": {
  "kernelspec": {
   "display_name": "Python 3",
   "language": "python",
   "name": "python3"
  },
  "language_info": {
   "codemirror_mode": {
    "name": "ipython",
    "version": 3
   },
   "file_extension": ".py",
   "mimetype": "text/x-python",
   "name": "python",
   "nbconvert_exporter": "python",
   "pygments_lexer": "ipython3",
   "version": "3.11.4"
  }
 },
 "nbformat": 4,
 "nbformat_minor": 2
}
