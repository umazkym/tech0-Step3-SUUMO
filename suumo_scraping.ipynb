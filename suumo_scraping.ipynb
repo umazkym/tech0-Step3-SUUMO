{
 "cells": [
  {
   "cell_type": "code",
   "execution_count": null,
   "metadata": {},
   "outputs": [],
   "source": [
    "# 最低限必要なデータ\n",
    "# 物件名　住所　間取り　家賃　階数"
   ]
  },
  {
   "cell_type": "markdown",
   "metadata": {},
   "source": [
    "### スクレイピング"
   ]
  },
  {
   "cell_type": "code",
   "execution_count": 27,
   "metadata": {},
   "outputs": [
    {
     "name": "stderr",
     "output_type": "stream",
     "text": [
      "100%|██████████| 515/515 [31:43<00:00,  3.70s/it]\n"
     ]
    }
   ],
   "source": [
    "import requests\n",
    "from bs4 import BeautifulSoup\n",
    "import pandas as pd\n",
    "import time\n",
    "from tqdm import tqdm   #for文の進捗を確認\n",
    "\n",
    "# スクレイピングを行うURLの指定\n",
    "REQUEST_URL = \"https://suumo.jp/jj/chintai/ichiran/FR301FC001/?ar=030&ta=13&bs=040&ekInput=28860&tj=30&nk=-1&ekInput=17460&tj=30&nk=-1&ct=25.0&cb=0.0&et=9999999&mt=9999999&mb=0&cn=15&shkr1=03&shkr2=03&shkr3=03&shkr4=03&fw2=&pc=30\"\n",
    "\n",
    "# ページ数の取得\n",
    "res = requests.get(REQUEST_URL)\n",
    "res.encoding = \"utf-8\"\n",
    "soup = BeautifulSoup(res.text, \"html.parser\")\n",
    "maxpage = int(soup.select(\"ol.pagination-parts a\")[-1].text) #\"-1\"でリストの一番最後の文字列を取り出す→整数化\n",
    "\n",
    "#ステータスコードが正常であれば実行\n",
    "if res.status_code == 200:\n",
    "\n",
    "    # 各データを格納するためのリスト\n",
    "    names = []\n",
    "    addresses = []\n",
    "    station_info1_list = []\n",
    "    station_info2_list = []\n",
    "    station_info3_list = []\n",
    "    years = []\n",
    "    maxfloors = []\n",
    "\n",
    "    floors = []\n",
    "    rent_fees = []\n",
    "    maintenance_fees = []\n",
    "    deposit_fees = []\n",
    "    gratuity_fees = []\n",
    "    layouts = []\n",
    "    areas = []\n",
    "\n",
    "    # ページごとのスクレイピング\n",
    "    for k in tqdm(range(int(maxpage))): #for文の進捗を確認\n",
    "        res = requests.get(REQUEST_URL+\"&page=\"+str(k)) # ページを変更したURLにアクセス\n",
    "        res.encoding = \"utf-8\"\n",
    "        soup = BeautifulSoup(res.text, \"html.parser\")\n",
    "        details = soup.select(\"div.cassetteitem-detail\")\n",
    "        time.sleep(1)   #サーバー負荷を避けるため1s遅延\n",
    "\n",
    "        # 各物件のデータを取得（上部）\n",
    "        for i in range(len(details)):\n",
    "            detail = details[i]\n",
    "            name = detail.select(\"div.cassetteitem_content-title\")[0].text\n",
    "            address = detail.select(\"li.cassetteitem_detail-col1\")[0].text\n",
    "            station_info1 = detail.select(\"div.cassetteitem_detail-text\")[0].text\n",
    "            station_info2 = detail.select(\"div.cassetteitem_detail-text\")[1].text\n",
    "            station_info3 = detail.select(\"div.cassetteitem_detail-text\")[2].text\n",
    "            year, maxfloor = detail.select(\"li.cassetteitem_detail-col3\")[0].text.split()\n",
    "            \n",
    "            # print(\"--------------------------------------------------\")\n",
    "            # print(name)\n",
    "            # print(address)\n",
    "            # print(station_info1)\n",
    "            # print(station_info2)\n",
    "            # print(station_info3)\n",
    "            # print(year)\n",
    "            # print(maxfloor)\n",
    "\n",
    "            # 物件の詳細情報（下部）\n",
    "            items = soup.select(\"div.cassetteitem-item\")[i].select(\"tbody\")\n",
    "            for j in range(len(items)):\n",
    "                item = items[j]\n",
    "\n",
    "                # 各項目のデータを取得（下部）\n",
    "                floor = item.select(\"td\")[2].text.split()[0]\n",
    "                rent_fee, maintenance_fee = item.select(\"td\")[3].text.split()\n",
    "                deposit_fee, gratuity_fee = item.select(\"td\")[4].text.split()\n",
    "                layout, area = item.select(\"td\")[5].text.split()\n",
    "\n",
    "                # print(\"---------\")\n",
    "                # print(floor)\n",
    "                # print(rent_fee)\n",
    "                # print(maintenance_fee)\n",
    "                # print(deposit_fee)\n",
    "                # print(gratuity_fee)\n",
    "                # print(layout)\n",
    "                # print(area)\n",
    "\n",
    "                # 取得したデータをリストに追加\n",
    "                names.append(name)\n",
    "                addresses.append(address)\n",
    "                station_info1_list.append(station_info1)\n",
    "                station_info2_list.append(station_info2)\n",
    "                station_info3_list.append(station_info3)\n",
    "                years.append(year)\n",
    "                maxfloors.append(maxfloor)\n",
    "\n",
    "                floors.append(floor)\n",
    "                rent_fees.append(rent_fee)\n",
    "                maintenance_fees.append(maintenance_fee)\n",
    "                deposit_fees.append(deposit_fee)\n",
    "                gratuity_fees.append(gratuity_fee)\n",
    "                layouts.append(layout)\n",
    "                areas.append(area)\n",
    "\n",
    "    # 取得したデータをdfに格納\n",
    "    data = {\n",
    "        'Name': names,\n",
    "        'Address': addresses,\n",
    "        'Station_Info1': station_info1_list,\n",
    "        'Station_Info2': station_info2_list,\n",
    "        'Station_Info3': station_info3_list,\n",
    "        'Year': years,\n",
    "        'Max_Floor': maxfloors,\n",
    "        'Floor': floors,\n",
    "        'Rent_Fee': rent_fees,\n",
    "        'Maintenance_Fee': maintenance_fees,\n",
    "        'Deposit_Fee': deposit_fees,\n",
    "        'Gratuity_Fee': gratuity_fees,\n",
    "        'Layout': layouts,\n",
    "        'Area': areas\n",
    "    }\n",
    "    df = pd.DataFrame(data)\n",
    "    # print(df)"
   ]
  },
  {
   "cell_type": "markdown",
   "metadata": {},
   "source": [
    "### スプレッドシートへの転記"
   ]
  },
  {
   "cell_type": "code",
   "execution_count": 28,
   "metadata": {},
   "outputs": [
    {
     "name": "stderr",
     "output_type": "stream",
     "text": [
      "C:\\Users\\zk-ht\\AppData\\Local\\Temp\\ipykernel_2612\\926802016.py:24: DeprecationWarning: [Deprecated][in version 6.0.0]: Method signature's arguments 'range_name' and 'values' will change their order. We recommend using named arguments for minimal impact. In addition, the argument 'values' will be mandatory of type: 'List[List]'. (ex) Worksheet.update(values = [[]], range_name=) \n",
      "  worksheet.update(\"B2\", values)\n"
     ]
    },
    {
     "data": {
      "text/plain": [
       "{'spreadsheetId': '1E5sSVGEaVJvmI-gU48-6glk5WtS7wq0nPL6i5FDPd5A',\n",
       " 'updatedRange': \"'元データ'!B2:O38300\",\n",
       " 'updatedRows': 38299,\n",
       " 'updatedColumns': 14,\n",
       " 'updatedCells': 536186}"
      ]
     },
     "execution_count": 28,
     "metadata": {},
     "output_type": "execute_result"
    }
   ],
   "source": [
    "import gspread\n",
    "import pandas as pd\n",
    "from oauth2client.service_account import ServiceAccountCredentials\n",
    "\n",
    "# GoogleSheetsAPI、GoogleDriveAPI、及び認証鍵の指定\n",
    "SCOPES = ['https://www.googleapis.com/auth/spreadsheets', 'https://www.googleapis.com/auth/drive']\n",
    "\n",
    "#↓↓↓↓↓↓↓↓↓↓↓↓↓↓↓↓↓↓↓↓↓jsonファイル名指定↓↓↓↓↓↓↓↓↓↓↓↓↓↓↓↓↓↓↓↓↓\n",
    "SERVICE_ACCOUNT_FILE=\"\"\n",
    "\n",
    "# Service Accountの認証情報を取得\n",
    "credentials = ServiceAccountCredentials.from_json_keyfile_name(SERVICE_ACCOUNT_FILE,SCOPES)\n",
    "\n",
    "# 認証情報を用いてGoogleSheetsにアクセス\n",
    "gs = gspread.authorize(credentials)\n",
    "\n",
    "# 対象のスプレッドシートとワークシートを指定\n",
    "#↓↓↓↓↓↓↓↓↓↓↓↓↓↓↓↓↓↓↓↓↓シートキー指定↓↓↓↓↓↓↓↓↓↓↓↓↓↓↓↓↓↓↓↓↓\n",
    "SPERADSHEET_KEY=\"\"\n",
    "workbook=gs.open_by_key(SPERADSHEET_KEY)\n",
    "worksheet=workbook.worksheet(\"元データ\")\n",
    "\n",
    "#dfから値を習得\n",
    "values = [df.columns.values.tolist()] + df.values.tolist()\n",
    "\n",
    "# ワークシートの指定したセル(B2)から値を追加\n",
    "worksheet.update(\"B2\", values)"
   ]
  }
 ],
 "metadata": {
  "kernelspec": {
   "display_name": "Python 3",
   "language": "python",
   "name": "python3"
  },
  "language_info": {
   "codemirror_mode": {
    "name": "ipython",
    "version": 3
   },
   "file_extension": ".py",
   "mimetype": "text/x-python",
   "name": "python",
   "nbconvert_exporter": "python",
   "pygments_lexer": "ipython3",
   "version": "3.11.4"
  }
 },
 "nbformat": 4,
 "nbformat_minor": 2
}
