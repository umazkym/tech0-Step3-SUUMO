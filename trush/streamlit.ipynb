{
 "cells": [
  {
   "cell_type": "code",
   "execution_count": null,
   "metadata": {},
   "outputs": [],
   "source": [
    "import streamlit as st\n",
    "\n",
    "col1, col2, col3 = st.columns(3)\n",
    "\n",
    "with col1:\n",
    "   st.header(\"A cat\")\n",
    "   st.image(\"https://static.streamlit.io/examples/cat.jpg\")\n",
    "\n",
    "with col2:\n",
    "   st.header(\"A dog\")\n",
    "   st.image(\"https://static.streamlit.io/examples/dog.jpg\")\n",
    "\n",
    "with col3:\n",
    "   st.header(\"An owl\")\n",
    "   st.image(\"https://static.streamlit.io/examples/owl.jpg\")"
   ]
  }
 ],
 "metadata": {
  "language_info": {
   "name": "python"
  }
 },
 "nbformat": 4,
 "nbformat_minor": 2
}
