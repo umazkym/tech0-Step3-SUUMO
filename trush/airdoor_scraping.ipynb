{
 "cells": [
  {
   "cell_type": "code",
   "execution_count": 139,
   "metadata": {},
   "outputs": [],
   "source": [
    "import requests\n",
    "from bs4 import BeautifulSoup\n",
    "\n",
    "def discriminator(URL, i):\n",
    "    # URLからページの内容を取得\n",
    "    res = requests.get(URL)\n",
    "    res.encoding = \"utf-8\"\n",
    "    soup = BeautifulSoup(res.text, \"html.parser\")\n",
    "\n",
    "    PropatyPanel = soup.select(\"div.PropertyPanel_propertyPanel__MqCpF\")[i]\n",
    "    RoomItem = PropatyPanel.select(\"a.PropertyPanelRoom_roomItem__3bVhC\")[0]\\\n",
    "        .select(\"div.PropertyPanelRoom_roomItemRightContent__UzfRX\")[0].select(\"div\")[2]\n",
    "\n",
    "    print(\"RoomItem:\", RoomItem)\n",
    "\n",
    "    # 特定の条件で情報を抽出\n",
    "    if \"PropertyPanelRoom_isRed__HXtHO\" in str(RoomItem):\n",
    "        charge = RoomItem.select(\"span.PropertyPanelRoom_isRed__HXtHO\")[0].text\n",
    "        if \"無料\" in charge:\n",
    "            translated_charge = \"0円\"\n",
    "            print(\"Charge:\", translated_charge)\n",
    "        else:\n",
    "            print(\"Charge:\", charge)\n",
    "    else:\n",
    "        print(\"Charge:\", RoomItem.select(\"span\")[1].text)\n"
   ]
  },
  {
   "cell_type": "code",
   "execution_count": 140,
   "metadata": {},
   "outputs": [
    {
     "name": "stdout",
     "output_type": "stream",
     "text": [
      "RoomItem: <div><span class=\"PropertyPanelRoom_isRed__HXtHO PropertyPanelRoom_isBold__hkYt7\">仲介手数料無料</span>　<span class=\"PropertyPanelRoom_isDarkGray__jXjFy PropertyPanelRoom_underline__P0jO7 PropertyPanelRoom_hintMessageSource___hDEU is-pc-only\">参考</span><div class=\"is-pc-only PropertyPanelRoom_hintMessage__LzCjS\">参考価格は仲介手数料の法定上限金額である1ヶ月分の家賃に税率を掛けて計算しています。</div><span class=\"PropertyPanelRoom_isDarkGray__jXjFy PropertyPanelRoom_underline__P0jO7 is-sp-only\">参考:</span><span class=\"PropertyPanelRoom_isDarkGray__jXjFy\">：<span class=\"PropertyPanelRoom_strikeText__N_r0P\">75,900<!-- -->円</span></span><div class=\"is-sp-only\"></div></div>\n",
      "Charge: 0円\n"
     ]
    }
   ],
   "source": [
    "# スクレイピングを行うURLの指定\n",
    "REQUEST_URL = \"https://airdoor.jp/list?li=d-89\"\n",
    "#上からcount目の物件を指定\n",
    "count=0\n",
    "discriminator(REQUEST_URL, count)"
   ]
  },
  {
   "cell_type": "code",
   "execution_count": 147,
   "metadata": {},
   "outputs": [
    {
     "name": "stdout",
     "output_type": "stream",
     "text": [
      "RoomItem: <div><span>仲介手数料 </span><span class=\"PropertyPanelRoom_isRed__HXtHO PropertyPanelRoom_isBold__hkYt7\">88,000円</span>　<span class=\"PropertyPanelRoom_isDarkGray__jXjFy PropertyPanelRoom_underline__P0jO7 PropertyPanelRoom_hintMessageSource___hDEU is-pc-only\">参考</span><div class=\"is-pc-only PropertyPanelRoom_hintMessage__LzCjS\">参考価格は仲介手数料の法定上限金額である1ヶ月分の家賃に税率を掛けて計算しています。</div><span class=\"PropertyPanelRoom_isDarkGray__jXjFy PropertyPanelRoom_underline__P0jO7 is-sp-only\">参考:</span><span class=\"PropertyPanelRoom_isDarkGray__jXjFy\">：<span class=\"PropertyPanelRoom_strikeText__N_r0P\">425,700<!-- -->円</span></span><div class=\"is-sp-only\"></div></div>\n",
      "Charge: 88,000円\n"
     ]
    }
   ],
   "source": [
    "# スクレイピングを行うURLの指定\n",
    "REQUEST_URL = \"https://airdoor.jp/list?li=d-89&p=26\"\n",
    "#上からcount目の物件を指定\n",
    "count=16\n",
    "discriminator(REQUEST_URL, count)"
   ]
  },
  {
   "cell_type": "code",
   "execution_count": 150,
   "metadata": {},
   "outputs": [
    {
     "name": "stdout",
     "output_type": "stream",
     "text": [
      "RoomItem: <div><span>仲介手数料 </span><span>85,800円</span></div>\n",
      "Charge: 85,800円\n"
     ]
    }
   ],
   "source": [
    "# スクレイピングを行うURLの指定\n",
    "REQUEST_URL = \"https://airdoor.jp/list?li=d-89&p=27\"\n",
    "#上からcount目の物件を指定\n",
    "count=9\n",
    "discriminator(REQUEST_URL, count)"
   ]
  }
 ],
 "metadata": {
  "kernelspec": {
   "display_name": "Python 3",
   "language": "python",
   "name": "python3"
  },
  "language_info": {
   "codemirror_mode": {
    "name": "ipython",
    "version": 3
   },
   "file_extension": ".py",
   "mimetype": "text/x-python",
   "name": "python",
   "nbconvert_exporter": "python",
   "pygments_lexer": "ipython3",
   "version": "3.11.4"
  }
 },
 "nbformat": 4,
 "nbformat_minor": 2
}
